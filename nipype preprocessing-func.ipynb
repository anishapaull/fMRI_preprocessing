{
 "cells": [
  {
   "cell_type": "code",
   "execution_count": 1,
   "id": "30ffd9e2",
   "metadata": {},
   "outputs": [],
   "source": [
    "import os\n",
    "from os.path import abspath\n",
    "\n",
    "from nipype import Workflow, Node, MapNode, Function\n",
    "from nipype.interfaces.fsl import BET, IsotropicSmooth, ApplyMask\n",
    "\n",
    "from nilearn.plotting import plot_anat\n",
    "%matplotlib inline\n",
    "import matplotlib.pyplot as plt"
   ]
  },
  {
   "cell_type": "code",
   "execution_count": 2,
   "id": "50d890f4",
   "metadata": {},
   "outputs": [],
   "source": [
    "# import nipype\n",
    "# nipype.__version__\n",
    "\n",
    "# !fsl -version"
   ]
  },
  {
   "cell_type": "code",
   "execution_count": 3,
   "id": "34cfca58",
   "metadata": {},
   "outputs": [],
   "source": [
    "# input_file =  abspath(\"\\OneDrive\\Desktop\\FMRI\\sub-1\\ses-1\\anat\\sub-1_ses-1_T1w.nii.gz\")\n",
    "# out_file = abspath(\"\\OneDrive\\Desktop\\output\\T1w_nipype_bet.nii.gz\")"
   ]
  },
  {
   "cell_type": "code",
   "execution_count": 4,
   "id": "cdcc88f8",
   "metadata": {},
   "outputs": [],
   "source": [
    "# bet = BET()\n",
    "# bet.inputs.in_file = input_file\n",
    "# bet.inputs.out_file = \"\\OneDrive\\Desktop\\output\\T1w_nipype_bet.nii.gz\"\n",
    "# res = bet.run()"
   ]
  },
  {
   "cell_type": "code",
   "execution_count": 5,
   "id": "1d12316d",
   "metadata": {},
   "outputs": [],
   "source": [
    "from nipype import Node, Workflow\n",
    "from nipype.interfaces.fsl import SliceTimer, MCFLIRT, Smooth\n",
    "\n",
    "slicetimer_func = Node(SliceTimer(index_dir=False,\n",
    "                             interleaved=True,\n",
    "                             time_repetition=3),\n",
    "                  name=\"slicetimer_func\")\n",
    "\n",
    "# mcflirt = Node(MCFLIRT(mean_vol=True,\n",
    "#                        save_plots=True),\n",
    "#                name=\"mcflirt\")\n",
    "\n",
    "\n",
    "smooth_func = Node(Smooth(fwhm=4), name=\"smooth_func\")\n"
   ]
  },
  {
   "cell_type": "code",
   "execution_count": 6,
   "id": "3f1a2809",
   "metadata": {},
   "outputs": [],
   "source": [
    "preproc02 = Workflow(name='preproc02', base_dir=\".\")\n",
    "preproc02.connect([(slicetimer_func, smooth_func, [('slice_time_corrected_file', 'in_file')])])"
   ]
  },
  {
   "cell_type": "code",
   "execution_count": 8,
   "id": "3b77bfdb",
   "metadata": {},
   "outputs": [],
   "source": [
    "os.chdir('Desktop/fmri')\n",
    "\n",
    "#C:\\Users\\kochh\\OneDrive\\Desktop\\FMRI\\preproc01"
   ]
  },
  {
   "cell_type": "code",
   "execution_count": 9,
   "id": "128dabb6",
   "metadata": {},
   "outputs": [
    {
     "data": {
      "text/plain": [
       "'/home/swati/Desktop/fmri'"
      ]
     },
     "execution_count": 9,
     "metadata": {},
     "output_type": "execute_result"
    }
   ],
   "source": [
    "os.getcwd()"
   ]
  },
  {
   "cell_type": "code",
   "execution_count": 10,
   "id": "d340a894",
   "metadata": {},
   "outputs": [
    {
     "name": "stdout",
     "output_type": "stream",
     "text": [
      "230812-12:08:07,733 nipype.workflow INFO:\n",
      "\t Generated workflow graph: /home/swati/Desktop/fmri/preproc02/graph.png (graph2use=orig, simple_form=True).\n"
     ]
    },
    {
     "data": {
      "text/plain": [
       "'/home/swati/Desktop/fmri/preproc02/graph.png'"
      ]
     },
     "execution_count": 10,
     "metadata": {},
     "output_type": "execute_result"
    }
   ],
   "source": [
    "import os \n",
    "\n",
    "os.makedirs('preproc02',exist_ok=True)\n",
    "# os.environ[\"PATH\"] += os.pathsep + 'C:/Program Files/Graphviz/bin/'\n",
    "preproc02.write_graph(graph2use='orig')\n",
    "\n",
    "#C:\\Users\\kochh\\Desktop\\FMRI\\preproc01"
   ]
  },
  {
   "cell_type": "code",
   "execution_count": 11,
   "id": "503eddb2",
   "metadata": {},
   "outputs": [
    {
     "name": "stdout",
     "output_type": "stream",
     "text": [
      "\u001b[0m\u001b[01;34mfmri2\u001b[0m/  \u001b[01;34mpreproc01\u001b[0m/  \u001b[01;34mpreproc02\u001b[0m/  \u001b[34;42msub-1\u001b[0m/  \u001b[34;42msub-2\u001b[0m/  \u001b[34;42msub-3\u001b[0m/\r\n"
     ]
    }
   ],
   "source": [
    "ls"
   ]
  },
  {
   "cell_type": "code",
   "execution_count": 12,
   "id": "ba6565bd",
   "metadata": {},
   "outputs": [
    {
     "data": {
      "image/png": "[encoded data removed]",
      "text/plain": [
       "<IPython.core.display.Image object>"
      ]
     },
     "execution_count": 12,
     "metadata": {},
     "output_type": "execute_result"
    }
   ],
   "source": [
    "from IPython.display import Image\n",
    "Image(filename=\"preproc02/graph_detailed.png\")"
   ]
  },
  {
   "cell_type": "code",
   "execution_count": 13,
   "id": "ede2639a",
   "metadata": {},
   "outputs": [],
   "source": [
    "!cd "
   ]
  },
  {
   "cell_type": "code",
   "execution_count": 14,
   "id": "2ae3a4aa",
   "metadata": {},
   "outputs": [
    {
     "name": "stdout",
     "output_type": "stream",
     "text": [
      "/home/swati/Desktop/fmri\r\n"
     ]
    }
   ],
   "source": [
    "!pwd"
   ]
  },
  {
   "cell_type": "code",
   "execution_count": 15,
   "id": "1ca5a83d",
   "metadata": {},
   "outputs": [],
   "source": [
    "\n",
    "slicetimer_func.inputs.in_file = '/home/swati/Desktop/fmri/sub-1/ses-1/func/sub-1_ses-1_task-rest_bold.nii.gz'\n",
    "# mcflirt.inputs.in_file = '/home/swati/Desktop/fmri/preproc01/slicetimer/sub-1_ses-1_task-rest_bold_st.nii.gz'\n"
   ]
  },
  {
   "cell_type": "code",
   "execution_count": 16,
   "id": "25d3226e",
   "metadata": {
    "scrolled": true
   },
   "outputs": [
    {
     "name": "stdout",
     "output_type": "stream",
     "text": [
      "230812-12:08:08,317 nipype.workflow INFO:\n",
      "\t Workflow preproc02 settings: ['check', 'execution', 'logging', 'monitoring']\n",
      "230812-12:08:08,321 nipype.workflow INFO:\n",
      "\t Running in parallel.\n",
      "230812-12:08:08,325 nipype.workflow INFO:\n",
      "\t [MultiProc] Running 0 tasks, and 1 jobs ready. Free memory (GB): 28.16/28.16, Free processors: 3/3.\n",
      "230812-12:08:08,469 nipype.workflow INFO:\n",
      "\t [Node] Setting-up \"preproc02.slicetimer_func\" in \"/home/swati/Desktop/fmri/preproc02/slicetimer_func\".\n",
      "230812-12:08:08,477 nipype.workflow INFO:\n",
      "\t [Node] Executing \"slicetimer_func\" <nipype.interfaces.fsl.preprocess.SliceTimer>\n",
      "230812-12:08:10,330 nipype.workflow INFO:\n",
      "\t [MultiProc] Running 1 tasks, and 0 jobs ready. Free memory (GB): 27.96/28.16, Free processors: 2/3.\n",
      "                     Currently running:\n",
      "                       * preproc02.slicetimer_func\n",
      "230812-12:10:14,369 nipype.workflow INFO:\n",
      "\t [Node] Finished \"slicetimer_func\", elapsed time 125.889097s.\n",
      "230812-12:10:14,446 nipype.workflow INFO:\n",
      "\t [Job 0] Completed (preproc02.slicetimer_func).\n",
      "230812-12:10:14,451 nipype.workflow INFO:\n",
      "\t [MultiProc] Running 0 tasks, and 1 jobs ready. Free memory (GB): 28.16/28.16, Free processors: 3/3.\n",
      "230812-12:10:14,538 nipype.workflow INFO:\n",
      "\t [Node] Setting-up \"preproc02.smooth_func\" in \"/home/swati/Desktop/fmri/preproc02/smooth_func\".\n",
      "230812-12:10:14,544 nipype.workflow INFO:\n",
      "\t [Node] Executing \"smooth_func\" <nipype.interfaces.fsl.utils.Smooth>\n",
      "230812-12:10:16,450 nipype.workflow INFO:\n",
      "\t [MultiProc] Running 1 tasks, and 0 jobs ready. Free memory (GB): 27.96/28.16, Free processors: 2/3.\n",
      "                     Currently running:\n",
      "                       * preproc02.smooth_func\n",
      "230812-12:12:37,997 nipype.workflow INFO:\n",
      "\t [Node] Finished \"smooth_func\", elapsed time 143.450444s.\n",
      "230812-12:12:38,590 nipype.workflow INFO:\n",
      "\t [Job 1] Completed (preproc02.smooth_func).\n",
      "230812-12:12:38,595 nipype.workflow INFO:\n",
      "\t [MultiProc] Running 0 tasks, and 0 jobs ready. Free memory (GB): 28.16/28.16, Free processors: 3/3.\n"
     ]
    },
    {
     "data": {
      "text/plain": [
       "<networkx.classes.digraph.DiGraph at 0x7f6437fb5b50>"
      ]
     },
     "execution_count": 16,
     "metadata": {},
     "output_type": "execute_result"
    }
   ],
   "source": [
    "\n",
    "preproc02.run('MultiProc', plugin_args={'n_procs': 3})  "
   ]
  },
  {
   "cell_type": "code",
   "execution_count": 17,
   "id": "417bf21d",
   "metadata": {},
   "outputs": [
    {
     "name": "stdout",
     "output_type": "stream",
     "text": [
      "/home/swati\n"
     ]
    }
   ],
   "source": [
    "cd"
   ]
  },
  {
   "cell_type": "code",
   "execution_count": 18,
   "id": "1af5678a",
   "metadata": {},
   "outputs": [
    {
     "name": "stdout",
     "output_type": "stream",
     "text": [
      "\u001b[01;34m/home/swati/Desktop/fmri/preproc02\u001b[00m\r\n",
      "├── d3.js\r\n",
      "├── graph1.json\r\n",
      "├── graph_detailed.dot\r\n",
      "├── \u001b[01;35mgraph_detailed.png\u001b[00m\r\n",
      "├── graph.dot\r\n",
      "├── graph.json\r\n",
      "├── \u001b[01;35mgraph.png\u001b[00m\r\n",
      "├── index.html\r\n",
      "├── \u001b[01;34mslicetimer_func\u001b[00m\r\n",
      "│   ├── _0xfc89028ae8d520091871d04af220965d.json\r\n",
      "│   ├── command.txt\r\n",
      "│   ├── _inputs.pklz\r\n",
      "│   ├── _node.pklz\r\n",
      "│   ├── \u001b[01;34m_report\u001b[00m\r\n",
      "│   │   └── report.rst\r\n",
      "│   ├── result_slicetimer_func.pklz\r\n",
      "│   └── \u001b[01;31msub-1_ses-1_task-rest_bold_st.nii.gz\u001b[00m\r\n",
      "└── \u001b[01;34msmooth_func\u001b[00m\r\n",
      "    ├── _0x50c6f992a4a161ff3a9dd613b03f64eb.json\r\n",
      "    ├── command.txt\r\n",
      "    ├── _inputs.pklz\r\n",
      "    ├── _node.pklz\r\n",
      "    ├── \u001b[01;34m_report\u001b[00m\r\n",
      "    │   └── report.rst\r\n",
      "    ├── result_smooth_func.pklz\r\n",
      "    └── \u001b[01;31msub-1_ses-1_task-rest_bold_st_smooth.nii.gz\u001b[00m\r\n",
      "\r\n",
      "4 directories, 22 files\r\n"
     ]
    }
   ],
   "source": [
    "!tree /home/swati/Desktop/fmri/preproc02"
   ]
  },
  {
   "cell_type": "code",
   "execution_count": 19,
   "id": "f3072621",
   "metadata": {},
   "outputs": [],
   "source": [
    "from nilearn import image, plotting\n",
    "out_path = '/home/swati/Desktop/fmri/preproc02'\n",
    "\n"
   ]
  },
  {
   "cell_type": "code",
   "execution_count": 44,
   "id": "7753ad0c",
   "metadata": {},
   "outputs": [],
   "source": [
    "# plotting.plot_epi(\n",
    "#     '/home/swati/Desktop/fmri/sub-1/ses-1/func/sub-1_ses-1_task-rest_bold.nii.gz',\n",
    "#     title=\"T1\", display_mode='ortho', annotate=False, draw_cross=False, cmap='gray');\n"
   ]
  },
  {
   "cell_type": "code",
   "execution_count": 29,
   "id": "4d90d485",
   "metadata": {},
   "outputs": [
    {
     "data": {
      "text/plain": [
       "nibabel.nifti1.Nifti1Image"
      ]
     },
     "execution_count": 29,
     "metadata": {},
     "output_type": "execute_result"
    }
   ],
   "source": [
    "import nibabel as nib\n",
    "img = nib.load('/home/swati/Desktop/fmri/sub-1/ses-1/func/sub-1_ses-1_task-rest_bold.nii.gz')\n",
    "type(img)"
   ]
  },
  {
   "cell_type": "code",
   "execution_count": 30,
   "id": "9e8e1969",
   "metadata": {},
   "outputs": [
    {
     "data": {
      "text/plain": [
       "numpy.ndarray"
      ]
     },
     "execution_count": 30,
     "metadata": {},
     "output_type": "execute_result"
    }
   ],
   "source": [
    "data = img.get_fdata()\n",
    "type(data)"
   ]
  },
  {
   "cell_type": "code",
   "execution_count": 31,
   "id": "28080648",
   "metadata": {},
   "outputs": [
    {
     "data": {
      "text/plain": [
       "(224, 224, 38, 200)"
      ]
     },
     "execution_count": 31,
     "metadata": {},
     "output_type": "execute_result"
    }
   ],
   "source": [
    "data.shape"
   ]
  },
  {
   "cell_type": "code",
   "execution_count": 32,
   "id": "03a66ea5",
   "metadata": {},
   "outputs": [
    {
     "data": {
      "text/plain": [
       "(224, 224, 38)"
      ]
     },
     "execution_count": 32,
     "metadata": {},
     "output_type": "execute_result"
    }
   ],
   "source": [
    "first_vol = data[:, :, :, 0]\n",
    "first_vol.shape"
   ]
  },
  {
   "cell_type": "code",
   "execution_count": 43,
   "id": "9a08f720",
   "metadata": {},
   "outputs": [
    {
     "data": {
      "text/plain": [
       "(-0.5, 223.5, 223.5, -0.5)"
      ]
     },
     "execution_count": 43,
     "metadata": {},
     "output_type": "execute_result"
    },
    {
     "data": {
      "image/png": "[encoded data removed]",
      "text/plain": [
       "<Figure size 1000x1000 with 4 Axes>"
      ]
     },
     "metadata": {},
     "output_type": "display_data"
    }
   ],
   "source": [
    "plt.figure(figsize=(10,10))\n",
    "plt.subplot(1, 4, 1)\n",
    "plt.imshow(first_vol[:, :, 0], cmap='gray')\n",
    "plt.axis('off')\n",
    "\n",
    "plt.subplot(1, 4, 2)\n",
    "plt.imshow(first_vol[:, :, 10], cmap='gray')\n",
    "plt.axis('off')\n",
    "\n",
    "plt.subplot(1, 4, 3)\n",
    "plt.imshow(first_vol[:, :, 20], cmap='gray')\n",
    "plt.axis('off')\n",
    "\n",
    "plt.subplot(1, 4, 4)\n",
    "plt.imshow(first_vol[:, :, 30], cmap='gray')\n",
    "plt.axis('off')"
   ]
  },
  {
   "cell_type": "code",
   "execution_count": 37,
   "id": "a7de8e58",
   "metadata": {},
   "outputs": [
    {
     "name": "stdout",
     "output_type": "stream",
     "text": [
      "Number of frames =  224\n"
     ]
    },
    {
     "name": "stderr",
     "output_type": "stream",
     "text": [
      "/tmp/ipykernel_5467/1951479446.py:20: UserWarning: Tight layout not applied. tight_layout cannot make axes width small enough to accommodate all axes decorations\n",
      "  plt.tight_layout()\n"
     ]
    },
    {
     "data": {
      "image/png": "[encoded data removed]",
      "text/plain": [
       "<Figure size 1500x500 with 224 Axes>"
      ]
     },
     "metadata": {},
     "output_type": "display_data"
    }
   ],
   "source": [
    "import numpy as np\n",
    "import matplotlib.pyplot as plt\n",
    "\n",
    "# Plot a series of 3D slices (e.g., middle slices) from the 4D data\n",
    "num_frames = data.shape[0]\n",
    "print(\"Number of frames = \", num_frames)\n",
    "\n",
    "middle_slice = data.shape[0] // 2  # Choose a middle slice for visualization\n",
    "\n",
    "# Create a figure with multiple subplots\n",
    "\n",
    "fig, axes = plt.subplots(1, num_frames, figsize=(15, 5))\n",
    "\n",
    "# Loop through each time frame and plot the middle slice\n",
    "for i in range(num_frames):\n",
    "    axes[i].imshow(data[i, middle_slice-1], cmap='viridis')\n",
    "    axes[i].set_title(f'Time Frame {i}')\n",
    "    axes[i].axis('off')\n",
    "\n",
    "plt.tight_layout()\n",
    "plt.show()"
   ]
  },
  {
   "cell_type": "code",
   "execution_count": null,
   "id": "be0b51a4",
   "metadata": {},
   "outputs": [],
   "source": [
    "# import numpy as np\n",
    "# import matplotlib.pyplot as plt\n",
    "# par = np.loadtxt('/home/swati/Desktop/fmri/preproc01/slicetimer/sub-1_ses-1_task-rest_bold_st.nii.gz')\n",
    "# fig, axes = plt.subplots(2, 1, figsize=(15, 5))\n",
    "# axes[0].set_ylabel('rotation (radians)')\n",
    "# axes[0].plot(par[0:, :3])\n",
    "# axes[1].plot(par[0:, 3:])\n",
    "# axes[1].set_xlabel('time (TR)')\n",
    "# axes[1].set_ylabel('translation (mm)');"
   ]
  },
  {
   "cell_type": "code",
   "execution_count": null,
   "id": "047071fc",
   "metadata": {},
   "outputs": [],
   "source": []
  }
 ],
 "metadata": {
  "kernelspec": {
   "display_name": "Python 3 (ipykernel)",
   "language": "python",
   "name": "python3"
  },
  "language_info": {
   "codemirror_mode": {
    "name": "ipython",
    "version": 3
   },
   "file_extension": ".py",
   "mimetype": "text/x-python",
   "name": "python",
   "nbconvert_exporter": "python",
   "pygments_lexer": "ipython3",
   "version": "3.8.8"
  }
 },
 "nbformat": 4,
 "nbformat_minor": 5
}
